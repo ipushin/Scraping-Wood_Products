{
 "cells": [
  {
   "cell_type": "code",
   "execution_count": null,
   "metadata": {},
   "outputs": [],
   "source": [
    "import pandas as pd\n",
    "import numpy as np\n",
    "import warnings\n",
    "warnings.filterwarnings('ignore')\n",
    "import re\n",
    "pd.set_option('display.max_columns', None)\n",
    "pd.set_option('display.max_rows', None)\n",
    "import re\n",
    "from random import randint\n",
    "from time import sleep\n",
    "from datetime import date\n",
    "from itertools import cycle\n",
    "from selenium import webdriver\n",
    "from selenium.webdriver.common.keys import Keys\n",
    "from selenium.webdriver.support.ui import WebDriverWait\n",
    "from selenium.webdriver.common.by import By\n",
    "from selenium.webdriver.support import expected_conditions as EC\n",
    "from selenium.webdriver.common.action_chains import ActionChains\n",
    "import pickle\n",
    "import os"
   ]
  },
  {
   "cell_type": "code",
   "execution_count": null,
   "metadata": {},
   "outputs": [],
   "source": [
    "def start_browsing(headless=False):\n",
    "    chrome_options = webdriver.ChromeOptions()\n",
    "    chrome_options.add_argument('--no-proxy-server')\n",
    "    chrome_options.headless=headless\n",
    "    user_agent = 'Mozilla/5.0 (Macintosh; Intel Mac OS X 10_15_7) AppleWebKit/605.1.15 (KHTML, like Gecko) Version/14.0.3 Safari/605.1.15'\n",
    "    chrome_options.add_argument('--user-agent=%s' % user_agent)\n",
    "    path = '/Users/macbook/Downloads/Chrome Driver'\n",
    "    browser =  webdriver.Chrome(os.path.join(path, 'chromedriver'),chrome_options=chrome_options)\n",
    "    browser.maximize_window()\n",
    "    return browser"
   ]
  },
  {
   "cell_type": "markdown",
   "metadata": {},
   "source": [
    "### Main functions to parse a product page"
   ]
  },
  {
   "cell_type": "code",
   "execution_count": null,
   "metadata": {},
   "outputs": [],
   "source": [
    "def get_option_links():\n",
    "    path = '//*[@id=\"product-information\"]//a'\n",
    "    opt_links = [x.get_attribute('href') for x in browser.find_elements_by_xpath(path)]\n",
    "    \n",
    "    path = '//*[contains(@class, \"dropdown_select\")]//option'\n",
    "    opt_links.extend([x.get_attribute('value') for x in browser.find_elements_by_xpath(path)])\n",
    "    \n",
    "    return opt_links"
   ]
  },
  {
   "cell_type": "code",
   "execution_count": null,
   "metadata": {},
   "outputs": [],
   "source": [
    "def process_temp_links(temp_links):\n",
    "    clean_links = []\n",
    "    for link in temp_links:\n",
    "        if 'https://www.hornbach.de' not in link:\n",
    "            link = 'https://www.hornbach.de' + link\n",
    "        if '#attribute' not in link and link not in clean_links:\n",
    "            clean_links.append(link)\n",
    "    return  clean_links"
   ]
  },
  {
   "cell_type": "code",
   "execution_count": null,
   "metadata": {},
   "outputs": [],
   "source": [
    "def collect_links(links):\n",
    "    for link in links:\n",
    "        if link not in all_links:\n",
    "            all_links.append(link)    "
   ]
  },
  {
   "cell_type": "code",
   "execution_count": null,
   "metadata": {},
   "outputs": [],
   "source": [
    "def get_img_link():\n",
    "    # Click on Image to get large Image\n",
    "    open_close_big_img()\n",
    "    \n",
    "    # Image link\n",
    "    path = '//*[contains(@class, \"ad-ui-modal_content\")]//img'\n",
    "    img_link = browser.find_elements_by_xpath(path)[0].get_attribute('src')\n",
    "    \n",
    "    return img_link"
   ]
  },
  {
   "cell_type": "code",
   "execution_count": null,
   "metadata": {},
   "outputs": [],
   "source": [
    "def open_close_big_img():\n",
    "    # Click on Image\n",
    "    path = '//*[@class=\"awssld\"]'\n",
    "    browser.find_elements_by_xpath(path)[0].click()\n",
    "    sleep(0.5)\n",
    "    # Close Image\n",
    "    path = '//*[@data-testid=\"gallery-modal-close-button\"]'\n",
    "    browser.find_elements_by_xpath(path)[0].click()"
   ]
  },
  {
   "cell_type": "code",
   "execution_count": null,
   "metadata": {},
   "outputs": [],
   "source": [
    "def collect_images():\n",
    "    img_links = []\n",
    "    try:\n",
    "        # Images number\n",
    "        path = '//*[@id=\"gallerybar\"]//div'\n",
    "        els = browser.find_elements_by_xpath(path)\n",
    "        img_number = len(els)\n",
    "        img_links.append(get_img_link())\n",
    "    except:\n",
    "        img_number=2\n",
    "        pass\n",
    "    sleep(0.5)\n",
    "    for i in range(img_number-1):\n",
    "        # Image gallery scroll\n",
    "        path = '//*[@id=\"gallerybar\"]/div[{}]/img'.format(i+1)\n",
    "        try:\n",
    "            browser.find_elements_by_xpath(path)[0].click()\n",
    "            sleep(0.5)\n",
    "            link = get_img_link()\n",
    "        except:\n",
    "            continue\n",
    "        \n",
    "        if link not in img_links:\n",
    "            img_links.append(link)\n",
    "    return img_links"
   ]
  },
  {
   "cell_type": "code",
   "execution_count": null,
   "metadata": {},
   "outputs": [],
   "source": [
    "def get_page_data():\n",
    "    # Images\n",
    "    images = collect_images()\n",
    "    images = ', '.join(images)\n",
    "    \n",
    "    # Title\n",
    "    path = '//*[@id=\"product-information\"]/h1'\n",
    "    title = browser.find_elements_by_xpath(path)[0].text\n",
    "    \n",
    "    # Price\n",
    "    path = '//*[contains(@class, \"price_main\")]'\n",
    "    price = browser.find_elements_by_xpath(path)[0].text\n",
    "    \n",
    "    # SKU\n",
    "    path = '//*[contains(@class, \"articleNumber\")]'\n",
    "    sku = browser.find_elements_by_xpath(path)[0].text\n",
    "    \n",
    "    # Minor Data\n",
    "    path = '//*[contains(@class, \"Component-unordered_list\")]'\n",
    "    minor_data = browser.find_elements_by_xpath(path)[0].text\n",
    "    \n",
    "    # Show More Data\n",
    "    actions = ActionChains(browser)\n",
    "    for _ in range(6):\n",
    "        actions.send_keys(Keys.PAGE_DOWN)\n",
    "        actions.perform()\n",
    "        sleep(0.1)\n",
    "    sleep(1)\n",
    "    for _ in range(4):\n",
    "        actions.send_keys(Keys.PAGE_UP)\n",
    "        actions.perform()\n",
    "        sleep(0.1)\n",
    "\n",
    "    sleep(2)\n",
    "    try:\n",
    "        path = '//*[@data-testid=\"attributes-show-more\"]/button'\n",
    "        element = WebDriverWait(browser, 10).until(EC.element_to_be_clickable((By.XPATH, path)))\n",
    "        sleep(1)\n",
    "        element.click()\n",
    "    except:\n",
    "        pass\n",
    "    \n",
    "    # Description\n",
    "    try:\n",
    "        path = '//*[@id=\"details\"]'\n",
    "        descr = browser.find_elements_by_xpath(path)[0].text\n",
    "    except:\n",
    "        descr=np.nan\n",
    "        pass\n",
    "    \n",
    "    sleep(2)\n",
    "    # Main Data\n",
    "    cols = []\n",
    "    values = []\n",
    "    path = '//*[@id=\"attribute\"]//li' \n",
    "    for el in browser.find_elements_by_xpath(path):\n",
    "        col = el.text.split('\\n')[0]\n",
    "        value = el.text.split('\\n')[-1]\n",
    "        cols.append(col)\n",
    "        values.append(value)\n",
    "    page_data = pd.DataFrame([values], columns=cols)\n",
    "    page_data['Title'] = title\n",
    "    page_data['Price'] = price\n",
    "    page_data['SKU'] = sku\n",
    "    page_data['Minor Data'] = minor_data\n",
    "    page_data['Description'] = descr\n",
    "    page_data['URL'] = browser.current_url\n",
    "    page_data['Images'] = images\n",
    "    return page_data"
   ]
  },
  {
   "cell_type": "markdown",
   "metadata": {},
   "source": [
    "## Getting links"
   ]
  },
  {
   "cell_type": "code",
   "execution_count": null,
   "metadata": {},
   "outputs": [],
   "source": [
    "browser = start_browsing()"
   ]
  },
  {
   "cell_type": "code",
   "execution_count": null,
   "metadata": {},
   "outputs": [],
   "source": [
    "# Support functions to parse initial set of links\n",
    "def get_number_of_pages():\n",
    "    path = '//*[@class=\"paging-indicator ng-binding\"]'\n",
    "    pages = browser.find_elements_by_xpath(path)[0].text\n",
    "    if pages == '':\n",
    "        pages=2\n",
    "    pages = int(pages.split('von ')[-1])\n",
    "    return pages \n",
    "\n",
    "def paginate():\n",
    "    # Pagination\n",
    "    path = '//*[@class=\"paging-btn right\"]'\n",
    "    browser.find_elements_by_xpath(path)[0].click()\n",
    "\n",
    "def populate_section_links():\n",
    "    path = '//*[@id=\"article-list\"]//a'\n",
    "    page_links_raw = browser.find_elements_by_xpath(path)\n",
    "    page_links=[]\n",
    "    for url in page_links_raw:\n",
    "        link = url.get_attribute('href')\n",
    "        if link not in page_links and 'artikel' in link and 'ratings' not in link  and 'artikelvergleich' not in link:\n",
    "            page_links.append(link)\n",
    "\n",
    "    section_links.extend(page_links)"
   ]
  },
  {
   "cell_type": "code",
   "execution_count": null,
   "metadata": {},
   "outputs": [],
   "source": [
    "section_links = ['https://www.hornbach.de/shop/Wandverkleidung-Deckenverkleidung/S13928/artikelliste.html',\n",
    "                'https://www.hornbach.de/shop/Modellbau/S20347/artikelliste.html',\n",
    "                'https://www.hornbach.de/shop/Moebelbau/S1941/artikelliste.html',\n",
    "                'https://www.hornbach.de/shop/Bauholz/S1940/artikelliste.html',\n",
    "                'https://www.hornbach.de/shop/OSB-Platten-Verlegeplatten/S610/artikelliste.html',\n",
    "                'https://www.hornbach.de/shop/Gartenbau|-Landschaftsbau/Terrassenbau/Terrassendielen/Holz-Terrassendielen/S840/artikelliste.html',\n",
    "                'https://www.hornbach.de/shop/Gartenbau-Landschaftsbau/Terrassenbau/Terrassendielen/Unterkonstruktionen/S843/artikelliste.html']"
   ]
  },
  {
   "cell_type": "code",
   "execution_count": null,
   "metadata": {},
   "outputs": [],
   "source": [
    "all_links = []\n",
    "for n, url in enumerate(section_links[:2]):\n",
    "    browser.get(url)\n",
    "    pages = get_number_of_pages()\n",
    "    print(f\"\\nSection: {n+1} | Number of pages: {pages} | {url}\")\n",
    "    \n",
    "    section_links = []\n",
    "    for i in range(0, pages-1):\n",
    "        sleep(2)\n",
    "        if i > 0:\n",
    "            paginate()\n",
    "        sleep(2)\n",
    "        populate_section_links()\n",
    "        print(f\"Page: {i+1} | Total links per section: {len(section_links)}\")\n",
    "    \n",
    "    all_links.extend(section_links)\n",
    "    print('Total Links:', len(all_links))"
   ]
  },
  {
   "cell_type": "markdown",
   "metadata": {},
   "source": [
    "### Adding optional links"
   ]
  },
  {
   "cell_type": "code",
   "execution_count": null,
   "metadata": {
    "scrolled": true
   },
   "outputs": [],
   "source": [
    "%%time\n",
    "for i, url in enumerate(all_links[:]):\n",
    "    browser.get(url)\n",
    "    temp_page_links = get_option_links()\n",
    "    collect_links(process_temp_links(temp_page_links))\n",
    "    print(i, f\"Total links: {len(all_links)}\")"
   ]
  },
  {
   "cell_type": "markdown",
   "metadata": {},
   "source": [
    "# Getting products data"
   ]
  },
  {
   "cell_type": "code",
   "execution_count": null,
   "metadata": {},
   "outputs": [],
   "source": [
    "df = pd.DataFrame()\n",
    "for i, url in enumerate(all_links[:]):\n",
    "    browser.get(url)\n",
    "    try:\n",
    "        page_df = get_page_data()\n",
    "    except:\n",
    "        print('Error')\n",
    "        continue\n",
    "    page_df = page_df.loc[:,~page_df.columns.duplicated()]\n",
    "    df = pd.concat([df, page_df], ignore_index=True)\n",
    "    \n",
    "    if i%10==0:\n",
    "        print(i, df.shape)\n",
    "        display(page_df)"
   ]
  }
 ],
 "metadata": {
  "kernelspec": {
   "display_name": "Python 3",
   "language": "python",
   "name": "python3"
  },
  "language_info": {
   "codemirror_mode": {
    "name": "ipython",
    "version": 3
   },
   "file_extension": ".py",
   "mimetype": "text/x-python",
   "name": "python",
   "nbconvert_exporter": "python",
   "pygments_lexer": "ipython3",
   "version": "3.7.5"
  }
 },
 "nbformat": 4,
 "nbformat_minor": 4
}
